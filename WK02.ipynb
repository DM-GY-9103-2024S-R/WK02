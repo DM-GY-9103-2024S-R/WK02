{
  "nbformat": 4,
  "nbformat_minor": 0,
  "metadata": {
    "colab": {
      "provenance": [],
      "authorship_tag": "ABX9TyMhuytAcbldogywX05phpmj"
    },
    "kernelspec": {
      "name": "python3",
      "display_name": "Python 3"
    },
    "language_info": {
      "name": "python"
    }
  },
  "cells": [
    {
      "cell_type": "markdown",
      "source": [
        "# Week 02 exercises"
      ],
      "metadata": {
        "id": "Ty-DVrJlaN1T"
      }
    },
    {
      "cell_type": "markdown",
      "source": [
        "## Setup\n",
        "\n",
        "Include some helper functions and libraries"
      ],
      "metadata": {
        "id": "s-e8uvrIca09"
      }
    },
    {
      "cell_type": "code",
      "source": [
        "import random"
      ],
      "metadata": {
        "id": "uHIQDMJ-WTei"
      },
      "execution_count": null,
      "outputs": []
    },
    {
      "cell_type": "markdown",
      "source": [
        "## Lists"
      ],
      "metadata": {
        "id": "sX5wEtIkWKhD"
      }
    },
    {
      "cell_type": "markdown",
      "source": [
        "### Create a list with 100 number 2's"
      ],
      "metadata": {
        "id": "u4rfXFu89qme"
      }
    },
    {
      "cell_type": "code",
      "source": [
        "list_A = []\n",
        "for i in range(0, 100):\n",
        "  list_A.append(2)\n",
        "\n",
        "print(list_A)\n",
        "print(len(list_A))"
      ],
      "metadata": {
        "id": "bUjv88t8cPNh"
      },
      "execution_count": null,
      "outputs": []
    },
    {
      "cell_type": "markdown",
      "source": [
        "### Create a list with all numbers from 0 to 99"
      ],
      "metadata": {
        "id": "rR_tplFVYlew"
      }
    },
    {
      "cell_type": "code",
      "source": [
        "list_99 = []\n",
        "for i in range(0, 100):\n",
        "  list_99.append(i)\n",
        "\n",
        "print(list_99)\n",
        "print(len(list_99))"
      ],
      "metadata": {
        "id": "MVyDponVYpwL"
      },
      "execution_count": null,
      "outputs": []
    },
    {
      "cell_type": "markdown",
      "source": [
        "### Create a list of 10 random numbers between 0 and 100"
      ],
      "metadata": {
        "id": "hBs429yN9wYE"
      }
    },
    {
      "cell_type": "code",
      "source": [
        "list_of_randoms = []\n",
        "\n",
        "for i in range(0, 10):\n",
        "  n = random.randint(0, 100)\n",
        "  list_of_randoms.append(n)\n",
        "\n",
        "print(list_of_randoms)\n",
        "print(len(list_of_randoms))"
      ],
      "metadata": {
        "id": "36_m35zIyN2h"
      },
      "execution_count": null,
      "outputs": []
    },
    {
      "cell_type": "markdown",
      "source": [
        "### Print the numbers and their index"
      ],
      "metadata": {
        "id": "7Aw4WiDS92MU"
      }
    },
    {
      "cell_type": "code",
      "source": [
        "for i in range(0, 10):\n",
        "  print(\"element\", i, \"is\", list_of_randoms[i])"
      ],
      "metadata": {
        "id": "h3ochjQlzQ4e"
      },
      "execution_count": null,
      "outputs": []
    },
    {
      "cell_type": "markdown",
      "source": [
        "### Create a list of 100 random numbers between 0 and 1000"
      ],
      "metadata": {
        "id": "5_-v7iTl955Q"
      }
    },
    {
      "cell_type": "code",
      "source": [
        "list_of_randoms = []\n",
        "\n",
        "for i in range(0, 100):\n",
        "  n = random.randint(0, 1000)\n",
        "  list_of_randoms.append(n)\n",
        "\n",
        "print(list_of_randoms)\n",
        "print(len(list_of_randoms))"
      ],
      "metadata": {
        "id": "5fYaP253u7yB"
      },
      "execution_count": null,
      "outputs": []
    },
    {
      "cell_type": "markdown",
      "source": [
        "### Create a list with random length\n",
        "\n",
        "A list of random length, with random numbers between 0 and 1000.\n"
      ],
      "metadata": {
        "id": "d6HZ54wJ-GzP"
      }
    },
    {
      "cell_type": "code",
      "source": [
        "num_elements = random.randint(100, 250)\n",
        "list_of_randoms = []\n",
        "\n",
        "for i in range(0, num_elements):\n",
        "  n = random.randint(0, 1000)\n",
        "  list_of_randoms.append(n)\n",
        "\n",
        "print(list_of_randoms)\n",
        "print(len(list_of_randoms))"
      ],
      "metadata": {
        "id": "0kBHR8Ao-AOM"
      },
      "execution_count": null,
      "outputs": []
    },
    {
      "cell_type": "markdown",
      "source": [
        "### Find the largest element on a list\n",
        "\n",
        "Go through all of the elements and compare each element to the largest number seen so far.\n",
        "\n",
        "Update the `largest` variable if we encounter a larger number."
      ],
      "metadata": {
        "id": "XfMx81LP-b_h"
      }
    },
    {
      "cell_type": "code",
      "source": [
        "largest = list_of_randoms[0]\n",
        "\n",
        "for n in list_of_randoms:\n",
        "  if n > largest:\n",
        "    largest = n\n",
        "\n",
        "print(largest)"
      ],
      "metadata": {
        "id": "J7eLIAnwxODF"
      },
      "execution_count": null,
      "outputs": []
    },
    {
      "cell_type": "markdown",
      "source": [
        "### Find the smallest element on a list\n",
        "\n",
        "Go through all of the elements and compare each element to the smallest number seen so far.\n",
        "\n",
        "Update the `smallest` variable if we encounter a smaller number."
      ],
      "metadata": {
        "id": "OQoQSbbC-7Gg"
      }
    },
    {
      "cell_type": "code",
      "source": [
        "smallest = list_of_randoms[0]\n",
        "\n",
        "for n in list_of_randoms:\n",
        "  if n < smallest:\n",
        "    smallest = n\n",
        "\n",
        "print(smallest)"
      ],
      "metadata": {
        "id": "5OSOQAVc3s3X"
      },
      "execution_count": null,
      "outputs": []
    },
    {
      "cell_type": "markdown",
      "source": [
        "### Find the sum of all elements on a list\n",
        "\n",
        "Go through all of the elements and add their values to an accumulator variable."
      ],
      "metadata": {
        "id": "rFL_vZuR_A2Z"
      }
    },
    {
      "cell_type": "code",
      "source": [
        "my_sum = 0\n",
        "\n",
        "for n in list_of_randoms:\n",
        "  my_sum += n\n",
        "\n",
        "print(my_sum)"
      ],
      "metadata": {
        "id": "g4FjyViC4T_p"
      },
      "execution_count": null,
      "outputs": []
    },
    {
      "cell_type": "markdown",
      "source": [
        "### Python has built in functions for doing these things"
      ],
      "metadata": {
        "id": "VlI-SzPa_Ja4"
      }
    },
    {
      "cell_type": "code",
      "source": [
        "print(min(list_of_randoms), max(list_of_randoms), sum(list_of_randoms))"
      ],
      "metadata": {
        "id": "ruGHhgm05p_t"
      },
      "execution_count": null,
      "outputs": []
    },
    {
      "cell_type": "markdown",
      "source": [
        "### Python also has a function for sorting a list."
      ],
      "metadata": {
        "id": "8sYq0tQj6z0e"
      }
    },
    {
      "cell_type": "code",
      "source": [
        "my_sorted_list = sorted(list_of_randoms)\n",
        "print(my_sorted_list)"
      ],
      "metadata": {
        "id": "DJlfGTZZ6SJt"
      },
      "execution_count": null,
      "outputs": []
    },
    {
      "cell_type": "markdown",
      "source": [
        "### With a sorted list we can more easily print the 5 smallest and 5 largest elements\n"
      ],
      "metadata": {
        "id": "zIJjJ8rx_W8s"
      }
    },
    {
      "cell_type": "code",
      "source": [
        "print(my_sorted_list[:5], my_sorted_list[-5:])"
      ],
      "metadata": {
        "id": "ytoCAy4p_dCZ"
      },
      "execution_count": null,
      "outputs": []
    },
    {
      "cell_type": "markdown",
      "source": [
        "This is new syntax.\n",
        "\n",
        "It's called `slicing` and it's used to access subsets of a list. (see [here](https://realpython.com/lessons/indexing-and-slicing/) and [here](https://towardsdatascience.com/the-basics-of-indexing-and-slicing-python-lists-2d12c90a94cf))\n",
        "\n",
        "`my_list[:5]` is the same as `my_list[0:5]`, and they both can be used to access the first `5` elements of a list.\n",
        "\n",
        "As another example:  \n",
        "`my_list[4:10]` would be used to access $6$ elements starting at position $4$, so elements $4$ - $9$ on the list. The second index in the slice, $10$, is not included."
      ],
      "metadata": {
        "id": "LkovtbW7zPY5"
      }
    }
  ]
}