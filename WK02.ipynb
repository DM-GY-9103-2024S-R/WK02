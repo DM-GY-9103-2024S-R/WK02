{
  "nbformat": 4,
  "nbformat_minor": 0,
  "metadata": {
    "colab": {
      "provenance": [],
      "authorship_tag": "ABX9TyMaZSN8Fxbz91NRDiiA2xac"
    },
    "kernelspec": {
      "name": "python3",
      "display_name": "Python 3"
    },
    "language_info": {
      "name": "python"
    }
  },
  "cells": [
    {
      "cell_type": "markdown",
      "source": [
        "# Week 02 exercises"
      ],
      "metadata": {
        "id": "Ty-DVrJlaN1T"
      }
    },
    {
      "cell_type": "markdown",
      "source": [
        "## Setup\n",
        "\n",
        "Include some helper functions and libraries"
      ],
      "metadata": {
        "id": "s-e8uvrIca09"
      }
    },
    {
      "cell_type": "code",
      "source": [
        "!wget -q https://github.com/DM-GY-9103-2024S-R/WK02/raw/main/WK02_utils.py\n",
        "\n",
        "from WK02_utils import object_from_json_url\n",
        "\n",
        "import matplotlib.pyplot as plt\n",
        "import random"
      ],
      "metadata": {
        "id": "uHIQDMJ-WTei"
      },
      "execution_count": null,
      "outputs": []
    },
    {
      "cell_type": "markdown",
      "source": [
        "## Lists and Objects"
      ],
      "metadata": {
        "id": "sX5wEtIkWKhD"
      }
    },
    {
      "cell_type": "code",
      "source": [
        "# Lists\n",
        "\n",
        "list_A = []"
      ],
      "metadata": {
        "id": "bUjv88t8cPNh"
      },
      "execution_count": null,
      "outputs": []
    },
    {
      "cell_type": "code",
      "source": [
        "# Objects / Dictionaries\n",
        "\n",
        "dict_A = {}"
      ],
      "metadata": {
        "id": "SxIKjQVQcTne"
      },
      "execution_count": null,
      "outputs": []
    },
    {
      "cell_type": "markdown",
      "source": [
        "## Access and Iterate"
      ],
      "metadata": {
        "id": "AJXy33fGi3vU"
      }
    },
    {
      "cell_type": "code",
      "source": [
        "# [], for loops, comprehensions"
      ],
      "metadata": {
        "id": "XTd8eUthi67q"
      },
      "execution_count": null,
      "outputs": []
    },
    {
      "cell_type": "markdown",
      "source": [
        "## Functions"
      ],
      "metadata": {
        "id": "PymKd6tbcdVb"
      }
    },
    {
      "cell_type": "code",
      "source": [
        "# min, max, sum, sort"
      ],
      "metadata": {
        "id": "7QS57u4ece2K"
      },
      "execution_count": null,
      "outputs": []
    },
    {
      "cell_type": "markdown",
      "source": [
        "## Bigger Lists"
      ],
      "metadata": {
        "id": "1TXg7A_icYXE"
      }
    },
    {
      "cell_type": "code",
      "source": [
        "HEIGHT_FILE = \"https://dm-gy-9103-2024s-r.github.io/assets/datasets/list_height.json\"\n",
        "\n",
        "# Use the object_from_json_url() function to get the contents\n",
        "# from the json file into a Python object called \"heights\"\n",
        "\n",
        "heights = object_from_json_url(HEIGHT_FILE)\n",
        "\n",
        "# look at some of the data"
      ],
      "metadata": {
        "id": "M2MhJi4pcoKv"
      },
      "execution_count": null,
      "outputs": []
    },
    {
      "cell_type": "code",
      "source": [
        "# Other files\n",
        "\n",
        "WEIGHT_FILE = \"https://dm-gy-9103-2024s-r.github.io/assets/datasets/list_weight.json\"\n",
        "ANSUR_FILE = \"https://dm-gy-9103-2024s-r.github.io/assets/datasets/list_age_height_weight.json\"\n",
        "\n",
        "weights = object_from_json_url(WEIGHT_FILE)\n",
        "ansur = object_from_json_url(ANSUR_FILE)\n",
        "\n",
        "# look at some of the data"
      ],
      "metadata": {
        "id": "dyvLoSIGnecd"
      },
      "execution_count": null,
      "outputs": []
    },
    {
      "cell_type": "code",
      "source": [
        "# json version\n",
        "\n",
        "ANSUR_OBJ_FILE = \"https://dm-gy-9103-2024s-r.github.io/assets/datasets/ansur_age_height_weight.json\"\n",
        "\n",
        "ansur = object_from_json_url(ANSUR_OBJ_FILE)\n",
        "\n",
        "# look at some of the data"
      ],
      "metadata": {
        "id": "eP07D04AW4ab"
      },
      "execution_count": null,
      "outputs": []
    },
    {
      "cell_type": "code",
      "source": [
        "# more complete json version\n",
        "\n",
        "ANSUR_OBJ_FILE = \"https://dm-gy-9103-2024s-r.github.io/assets/datasets/ansur_wk02.json\"\n",
        "\n",
        "ansur = object_from_json_url(ANSUR_OBJ_FILE)\n",
        "\n",
        "# look at some of the data"
      ],
      "metadata": {
        "id": "ts0Y8VopXcK0"
      },
      "execution_count": null,
      "outputs": []
    },
    {
      "cell_type": "markdown",
      "source": [
        "## Plots\n",
        "\n",
        "We can use the [matplot](https://matplotlib.org/stable/api/pyplot_summary.html) library to visualize our data."
      ],
      "metadata": {
        "id": "57fBpk_6dsvw"
      }
    },
    {
      "cell_type": "code",
      "source": [
        "plt.plot(heights, 'bo', markersize=2)\n",
        "plt.show()"
      ],
      "metadata": {
        "id": "L2P8OQxHd2E0"
      },
      "execution_count": null,
      "outputs": []
    },
    {
      "cell_type": "code",
      "source": [
        "# plot weights"
      ],
      "metadata": {
        "id": "HerDD9h0kCWN"
      },
      "execution_count": null,
      "outputs": []
    },
    {
      "cell_type": "code",
      "source": [
        "# plot sorted"
      ],
      "metadata": {
        "id": "QhuUqx0Cn61r"
      },
      "execution_count": null,
      "outputs": []
    },
    {
      "cell_type": "markdown",
      "source": [
        "## Histograms"
      ],
      "metadata": {
        "id": "DWExTIuKgWkw"
      }
    },
    {
      "cell_type": "code",
      "source": [
        "plt.hist(heights, bins=32)\n",
        "plt.show()"
      ],
      "metadata": {
        "id": "2Lm0SVgXd9oh"
      },
      "execution_count": null,
      "outputs": []
    },
    {
      "cell_type": "markdown",
      "source": [
        "## Correlation"
      ],
      "metadata": {
        "id": "G4lJZM-HxNc3"
      }
    },
    {
      "cell_type": "code",
      "source": [
        "# get \"columns\""
      ],
      "metadata": {
        "id": "qCp1wD28xTS3"
      },
      "execution_count": null,
      "outputs": []
    }
  ]
}